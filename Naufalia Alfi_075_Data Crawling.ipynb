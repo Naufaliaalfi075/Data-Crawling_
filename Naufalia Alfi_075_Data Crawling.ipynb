{
 "cells": [
  {
   "cell_type": "code",
   "execution_count": 1,
   "id": "388d212b",
   "metadata": {},
   "outputs": [],
   "source": [
    "import pandas as pd\n",
    "from selenium import webdriver\n",
    "from selenium.webdriver.chrome.service import Service\n",
    "from selenium.webdriver.chrome.options import Options\n",
    "from bs4 import BeautifulSoup"
   ]
  },
  {
   "cell_type": "code",
   "execution_count": 2,
   "id": "2e947994",
   "metadata": {},
   "outputs": [],
   "source": [
    "webdriver_service = Service('/path/to/chromedriver')"
   ]
  },
  {
   "cell_type": "code",
   "execution_count": 5,
   "id": "d2bcdd24",
   "metadata": {},
   "outputs": [],
   "source": [
    "options = Options()\n",
    "options.add_argument(\"--headless\")\n",
    "options.add_argument(\"--no-sandbox\")\n",
    "options.add_argument(\"--disable-dev-shm-usage\")"
   ]
  },
  {
   "cell_type": "code",
   "execution_count": 6,
   "id": "656171ee",
   "metadata": {},
   "outputs": [],
   "source": [
    "driver = webdriver.Chrome(service=webdriver_service,  options=options)"
   ]
  },
  {
   "cell_type": "code",
   "execution_count": 7,
   "id": "3f1f1a4b",
   "metadata": {},
   "outputs": [],
   "source": [
    "driver.get('https://top-1000-sekolah.ltmpt.ac.id/?page=1&per-page=100&sort=rank_nas')"
   ]
  },
  {
   "cell_type": "code",
   "execution_count": 11,
   "id": "b086cfd7",
   "metadata": {},
   "outputs": [],
   "source": [
    "page_source = driver.page_source"
   ]
  },
  {
   "cell_type": "code",
   "execution_count": 12,
   "id": "8b4ba8ee",
   "metadata": {},
   "outputs": [],
   "source": [
    "soup = BeautifulSoup(page_source, 'html.parser')"
   ]
  },
  {
   "cell_type": "code",
   "execution_count": 15,
   "id": "a650cb95",
   "metadata": {},
   "outputs": [],
   "source": [
    "data = []\n",
    "table_rows = soup.select('#w0 > table > tbody tr')\n",
    "for row in table_rows:\n",
    "    rangking = row.select_one('td:nth-child(1)').get_text()\n",
    "    peringkat = row.select_one('td:nth-child(2)').get_text()\n",
    "    npsn = row.select_one('td:nth-child(3)').get_text()\n",
    "    nama_sekolah = row.select_one('td:nth-child(4)').get_text()\n",
    "    nilai_total = row.select_one('td:nth-child(5)').get_text()\n",
    "    provinsi = row.select_one('td:nth-child(6)').get_text()\n",
    "    kota_kab = row.select_one('td:nth-child(7)').get_text()\n",
    "    jenis = row.select_one('td:nth-child(8)').get_text()\n",
    "    \n",
    "    data.append({\n",
    "        'Rangking' : rangking,\n",
    "        'Peringkat': peringkat,\n",
    "        'NPSN' : npsn,\n",
    "        'nama_sekolah': nama_sekolah,\n",
    "        'Nilai_Total' : nilai_total,\n",
    "        'Provinsi' : provinsi,\n",
    "        'Kota/Kab.': kota_kab,\n",
    "        'Jenis': jenis,\n",
    "    })"
   ]
  },
  {
   "cell_type": "code",
   "execution_count": 16,
   "id": "880c6910",
   "metadata": {},
   "outputs": [],
   "source": [
    "driver.quit()"
   ]
  },
  {
   "cell_type": "code",
   "execution_count": 17,
   "id": "44ccced5",
   "metadata": {},
   "outputs": [],
   "source": [
    "df = pd.DataFrame(data)"
   ]
  },
  {
   "cell_type": "code",
   "execution_count": 18,
   "id": "ac28541d",
   "metadata": {},
   "outputs": [
    {
     "name": "stdout",
     "output_type": "stream",
     "text": [
      "   Rangking Peringkat      NPSN                          nama_sekolah  \\\n",
      "0         1            20623314     MAN INSAN CENDEKIA SERPONG More..   \n",
      "1         2        11  20532145         SMA KATOLIK ST.LOUIS 1 More..   \n",
      "2         3         -  69978389         SMA PRADITA DIRGANTARA More..   \n",
      "3         4        30  69941723  MAN INSAN CENDEKIA PEKALONGAN More..   \n",
      "4         5        -2  20102568                 SMAN 8 JAKARTA More..   \n",
      "..      ...       ...       ...                                   ...   \n",
      "95       96        67  20103292               SMAN 103 JAKARTA More..   \n",
      "96       97       -60  20107304  SMAS ISLAM AL-AZHAR 1 JAKARTA More..   \n",
      "97       98        50  10259371         SMAS METHODIST 3 MEDAN More..   \n",
      "98       99        70  20238524                 SMK-SMAK BOGOR More..   \n",
      "99      100       116  20102571                SMAN 66 JAKARTA More..   \n",
      "\n",
      "   Nilai_Total              Provinsi               Kota/Kab. Jenis  \n",
      "0      666,494          Prov. Banten  Kota Tangerang Selatan    MA  \n",
      "1      641,482      Prov. Jawa Timur           Kota Surabaya   SMA  \n",
      "2      640,747     Prov. Jawa Tengah           Kab. Boyolali   SMA  \n",
      "3      637,499     Prov. Jawa Tengah         Kota Pekalongan    MA  \n",
      "4      635,347  Prov. D.K.I. Jakarta    Kota Jakarta Selatan   SMA  \n",
      "..         ...                   ...                     ...   ...  \n",
      "95     580,890  Prov. D.K.I. Jakarta      Kota Jakarta Timur   SMA  \n",
      "96     580,574  Prov. D.K.I. Jakarta    Kota Jakarta Selatan   SMA  \n",
      "97     580,203  Prov. Sumatera Utara              Kota Medan   SMA  \n",
      "98     580,148      Prov. Jawa Barat              Kota Bogor   SMK  \n",
      "99     580,146  Prov. D.K.I. Jakarta    Kota Jakarta Selatan   SMA  \n",
      "\n",
      "[100 rows x 8 columns]\n"
     ]
    }
   ],
   "source": [
    "print(df)"
   ]
  },
  {
   "cell_type": "code",
   "execution_count": 19,
   "id": "000f1db4",
   "metadata": {},
   "outputs": [],
   "source": [
    "df.to_excel('sekolah.xlsx', index=False)"
   ]
  }
 ],
 "metadata": {
  "kernelspec": {
   "display_name": "Python 3 (ipykernel)",
   "language": "python",
   "name": "python3"
  },
  "language_info": {
   "codemirror_mode": {
    "name": "ipython",
    "version": 3
   },
   "file_extension": ".py",
   "mimetype": "text/x-python",
   "name": "python",
   "nbconvert_exporter": "python",
   "pygments_lexer": "ipython3",
   "version": "3.9.12"
  }
 },
 "nbformat": 4,
 "nbformat_minor": 5
}
